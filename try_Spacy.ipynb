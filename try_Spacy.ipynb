{
 "cells": [
  {
   "cell_type": "code",
   "execution_count": 1,
   "metadata": {
    "collapsed": true
   },
   "outputs": [],
   "source": [
    "import spacy \n",
    "nlp = spacy.load(\"en\")"
   ]
  },
  {
   "cell_type": "code",
   "execution_count": 3,
   "metadata": {
    "collapsed": true
   },
   "outputs": [],
   "source": [
    "document = unicode(open(\"hotel_text_data.txt\").read().decode('utf8')) \n",
    "document = nlp(document)"
   ]
  },
  {
   "cell_type": "code",
   "execution_count": 5,
   "metadata": {
    "collapsed": false
   },
   "outputs": [
    {
     "data": {
      "text/plain": [
       "['__bytes__',\n",
       " '__class__',\n",
       " '__delattr__',\n",
       " '__doc__',\n",
       " '__format__',\n",
       " '__getattribute__',\n",
       " '__getitem__',\n",
       " '__hash__',\n",
       " '__init__',\n",
       " '__iter__',\n",
       " '__len__',\n",
       " '__new__',\n",
       " '__pyx_vtable__',\n",
       " '__reduce__',\n",
       " '__reduce_ex__',\n",
       " '__repr__',\n",
       " '__setattr__',\n",
       " '__sizeof__',\n",
       " '__str__',\n",
       " '__subclasshook__',\n",
       " '__unicode__',\n",
       " '_py_tokens',\n",
       " '_realloc',\n",
       " '_vector',\n",
       " '_vector_norm',\n",
       " 'count_by',\n",
       " 'doc',\n",
       " 'ents',\n",
       " 'from_array',\n",
       " 'from_bytes',\n",
       " 'has_vector',\n",
       " 'is_parsed',\n",
       " 'is_tagged',\n",
       " 'mem',\n",
       " 'merge',\n",
       " 'noun_chunks',\n",
       " 'noun_chunks_iterator',\n",
       " 'read_bytes',\n",
       " 'sentiment',\n",
       " 'sents',\n",
       " 'similarity',\n",
       " 'string',\n",
       " 'tensor',\n",
       " 'text',\n",
       " 'text_with_ws',\n",
       " 'to_array',\n",
       " 'to_bytes',\n",
       " 'user_data',\n",
       " 'user_hooks',\n",
       " 'user_span_hooks',\n",
       " 'user_token_hooks',\n",
       " 'vector',\n",
       " 'vector_norm',\n",
       " 'vocab']"
      ]
     },
     "execution_count": 5,
     "metadata": {},
     "output_type": "execute_result"
    }
   ],
   "source": [
    "# list properties of the document\n",
    "dir(document)"
   ]
  },
  {
   "cell_type": "code",
   "execution_count": 17,
   "metadata": {
    "collapsed": false
   },
   "outputs": [
    {
     "name": "stdout",
     "output_type": "stream",
     "text": [
      "['__bytes__', '__class__', '__delattr__', '__doc__', '__eq__', '__format__', '__ge__', '__getattribute__', '__gt__', '__hash__', '__init__', '__le__', '__len__', '__lt__', '__ne__', '__new__', '__pyx_vtable__', '__reduce__', '__reduce_ex__', '__repr__', '__setattr__', '__sizeof__', '__str__', '__subclasshook__', '__unicode__', 'ancestors', 'check_flag', 'children', 'cluster', 'conjuncts', 'dep', 'dep_', 'doc', 'ent_id', 'ent_id_', 'ent_iob', 'ent_iob_', 'ent_type', 'ent_type_', 'has_repvec', 'has_vector', 'head', 'i', 'idx', 'is_alpha', 'is_ancestor', 'is_ancestor_of', 'is_ascii', 'is_bracket', 'is_digit', 'is_left_punct', 'is_lower', 'is_oov', 'is_punct', 'is_quote', 'is_right_punct', 'is_space', 'is_stop', 'is_title', 'lang', 'lang_', 'left_edge', 'lefts', 'lemma', 'lemma_', 'lex_id', 'like_email', 'like_num', 'like_url', 'lower', 'lower_', 'n_lefts', 'n_rights', 'nbor', 'norm', 'norm_', 'orth', 'orth_', 'pos', 'pos_', 'prefix', 'prefix_', 'prob', 'rank', 'repvec', 'right_edge', 'rights', 'sentiment', 'shape', 'shape_', 'similarity', 'string', 'subtree', 'suffix', 'suffix_', 'tag', 'tag_', 'text', 'text_with_ws', 'vector', 'vector_norm', 'vocab', 'whitespace_']\n"
     ]
    }
   ],
   "source": [
    "# list properties of a token\n",
    "for w in list(document.sents)[0]:\n",
    "    print dir(w)\n",
    "    break"
   ]
  },
  {
   "cell_type": "code",
   "execution_count": 62,
   "metadata": {
    "collapsed": false
   },
   "outputs": [
    {
     "name": "stdout",
     "output_type": "stream",
     "text": [
      "Nice\n",
      "Nice place Better than some reviews give it credit for.\n",
      "\n",
      "Nice 433 JJ False\n",
      "place 440 NN False\n",
      "Better 441 NNP False\n",
      "than 432 IN True\n",
      "some 426 DT True\n",
      "reviews 443 NNS False\n",
      "give 458 VBP True\n",
      "it 445 PRP True\n",
      "credit 440 NN False\n",
      "for 432 IN True\n",
      ". 419 . False\n",
      "\n",
      "it\n",
      "it nsubj seems\n",
      "the input\n",
      "the input nsubj accept\n",
      "unicode\n",
      "unicode dobj accept\n"
     ]
    }
   ],
   "source": [
    "print document[0]\n",
    "print list(document.sents)[0]\n",
    "print\n",
    "for w in list(document.sents)[0]:\n",
    "    print w, w.tag, w.tag_, w.is_stop\n",
    "print\n",
    "# noun phrase\n",
    "## For the meaning, check Stanford Dependencies Manual: https://nlp.stanford.edu/software/dependencies_manual.pdf\n",
    "for np in nlp(u'it seems that the input here onlu accept unicode').noun_chunks:\n",
    "    print np\n",
    "    print np.text, np.root.dep_, np.root.head.text"
   ]
  },
  {
   "cell_type": "code",
   "execution_count": 26,
   "metadata": {
    "collapsed": false
   },
   "outputs": [
    {
     "name": "stdout",
     "output_type": "stream",
     "text": [
      " (Sheraton, South, the Wrentham Village, 30, Boston, 17th, Sheraton Hotel, Sheraton, 3 nights, the day)\n",
      "(Sheraton, u'ORG')\n",
      "(South, u'LOC')\n",
      "(the Wrentham Village, u'ORG')\n",
      "(30, u'MONEY')\n",
      "(Boston, u'GPE')\n",
      "(17th, u'ORDINAL')\n",
      "(Sheraton Hotel, u'ORG')\n",
      "(Sheraton, u'ORG')\n",
      "(3 nights, u'DATE')\n",
      "(the day, u'DATE')\n"
     ]
    }
   ],
   "source": [
    "# entity detection\n",
    "print document.ents[0:10]\n",
    "for w in document.ents[0:10]:\n",
    "    print(w, w.label_)"
   ]
  },
  {
   "cell_type": "code",
   "execution_count": 39,
   "metadata": {
    "collapsed": false
   },
   "outputs": [
    {
     "name": "stdout",
     "output_type": "stream",
     "text": [
      " what a surprise What a surprise the Sheraton was after reading some of the reviews.\n",
      "Good location       Boston from 17th Floor of Sheraton Hotel \n",
      "Find an alternative to the Sheraton We stayed at this hotel for 3 nights.\n",
      "I stayed at the Sheraton in Back Bay from November 21-25 for a business conference.\n",
      "Got the Sheraton on Priceline and went with a certain amount of trepidation having seen the variety of reports.\n",
      "Never again - no more chain hotels, certainly Sheraton is pushed waaay down on the list now, Motel 6 for them. \n",
      "\n",
      "what [] [surprise, was]\n",
      "a [] [surprise, was]\n",
      "surprise [what, a] [was]\n",
      "What [] [surprise, was]\n",
      "a [] [surprise, was]\n",
      "surprise [What, a] [was]\n",
      "the [] [Sheraton, was]\n",
      "Sheraton [the] [was]\n",
      "was [surprise, surprise, Sheraton, after, .] []\n",
      "after [reading] [was]\n",
      "reading [some] [after, was]\n",
      "some [of] [reading, after, was]\n",
      "of [reviews] [some, reading, after, was]\n",
      "the [] [reviews, of, some, reading, after, was]\n",
      "reviews [the] [of, some, reading, after, was]\n",
      ". [] [was]\n"
     ]
    }
   ],
   "source": [
    "# dependency parser\n",
    "\n",
    "## get sentences that contains \"Sheraton\"\n",
    "Sheraton_sents = [s for s in list(document.sents) if \"Sheraton\" in s.string]\n",
    "for s in Sheraton_sents[0:5]:\n",
    "    print s\n",
    "    \n",
    "## sample dependency tree for 1 sentence\n",
    "for w in Sheraton_sents[0]:\n",
    "    print w, list(w.children), list(w.ancestors)"
   ]
  },
  {
   "cell_type": "code",
   "execution_count": 56,
   "metadata": {
    "collapsed": false
   },
   "outputs": [
    {
     "name": "stdout",
     "output_type": "stream",
     "text": [
      "Counter({u'table': 1, u'Choice': 1, u'room': 1, u'location': 1})\n",
      "[(u'table', 1), (u'Choice', 1), (u'room', 1), (u'location', 1)]\n"
     ]
    }
   ],
   "source": [
    "from collections import Counter\n",
    "\n",
    "## find pos_tags for a certain token\n",
    "def find_token_tags(sent_lst, target_token, tag_type):\n",
    "    results = []\n",
    "    for s in sent_lst:\n",
    "        for w in s:\n",
    "            if target_token in w.string:\n",
    "                results.extend([c.string.strip() for c in w.children if c.tag_ == tag_type])\n",
    "    return Counter(results), Counter(results).most_common(5)\n",
    "\n",
    "all_results, top_5 = find_token_tags(Sheraton_sents, \"Sheraton\", \"NN\")\n",
    "print all_results\n",
    "print top_5"
   ]
  }
 ],
 "metadata": {
  "kernelspec": {
   "display_name": "Python 2",
   "language": "python",
   "name": "python2"
  },
  "language_info": {
   "codemirror_mode": {
    "name": "ipython",
    "version": 2
   },
   "file_extension": ".py",
   "mimetype": "text/x-python",
   "name": "python",
   "nbconvert_exporter": "python",
   "pygments_lexer": "ipython2",
   "version": "2.7.10"
  }
 },
 "nbformat": 4,
 "nbformat_minor": 0
}
