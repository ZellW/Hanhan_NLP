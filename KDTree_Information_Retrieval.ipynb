{
 "cells": [
  {
   "cell_type": "code",
   "execution_count": 12,
   "metadata": {
    "collapsed": true
   },
   "outputs": [],
   "source": [
    "#!/usr/bin/env python\n",
    "\n",
    "# In this piece of code, I'm trying to retrieve documents relevant to Emmanuel :)\n",
    "import pandas as pd\n",
    "import numpy as np\n",
    "import nltk\n",
    "from sklearn.feature_extraction.text import CountVectorizer, TfidfTransformer\n",
    "from sklearn.neighbors import KDTree\n",
    "\n",
    "## Download the dataset here: https://drive.google.com/file/d/1quiVJqTHnDzCxFT6xgJqhkNpj48rz-49/view"
   ]
  },
  {
   "cell_type": "code",
   "execution_count": 2,
   "metadata": {},
   "outputs": [
    {
     "data": {
      "text/plain": [
       "(7799, 3)"
      ]
     },
     "execution_count": 2,
     "metadata": {},
     "output_type": "execute_result"
    }
   ],
   "source": [
    "people = pd.read_csv('people_data.csv', nrows=7799)  # my Ipython kernel died a few times, better choose less text\n",
    "people.shape"
   ]
  },
  {
   "cell_type": "code",
   "execution_count": 44,
   "metadata": {},
   "outputs": [
    {
     "data": {
      "text/html": [
       "<div>\n",
       "<style>\n",
       "    .dataframe thead tr:only-child th {\n",
       "        text-align: right;\n",
       "    }\n",
       "\n",
       "    .dataframe thead th {\n",
       "        text-align: left;\n",
       "    }\n",
       "\n",
       "    .dataframe tbody tr th {\n",
       "        vertical-align: top;\n",
       "    }\n",
       "</style>\n",
       "<table border=\"1\" class=\"dataframe\">\n",
       "  <thead>\n",
       "    <tr style=\"text-align: right;\">\n",
       "      <th></th>\n",
       "      <th>URI</th>\n",
       "      <th>name</th>\n",
       "      <th>text</th>\n",
       "    </tr>\n",
       "  </thead>\n",
       "  <tbody>\n",
       "    <tr>\n",
       "      <th>0</th>\n",
       "      <td>&lt;http://dbpedia.org/resource/Bill_Clinton&gt;</td>\n",
       "      <td>Bill Clinton</td>\n",
       "      <td>william jefferson bill clinton born william je...</td>\n",
       "    </tr>\n",
       "    <tr>\n",
       "      <th>1</th>\n",
       "      <td>&lt;http://dbpedia.org/resource/Polyana_L%C3%B3pez&gt;</td>\n",
       "      <td>Polyana L%C3%B3pez</td>\n",
       "      <td>polyana lpez born circa 1985 is an argentine a...</td>\n",
       "    </tr>\n",
       "    <tr>\n",
       "      <th>2</th>\n",
       "      <td>&lt;http://dbpedia.org/resource/Harpdog_Brown&gt;</td>\n",
       "      <td>Harpdog Brown</td>\n",
       "      <td>harpdog brown is a singer and harmonica player...</td>\n",
       "    </tr>\n",
       "    <tr>\n",
       "      <th>3</th>\n",
       "      <td>&lt;http://dbpedia.org/resource/Franz_Rottensteiner&gt;</td>\n",
       "      <td>Franz Rottensteiner</td>\n",
       "      <td>franz rottensteiner born in waidmannsfeld lowe...</td>\n",
       "    </tr>\n",
       "    <tr>\n",
       "      <th>4</th>\n",
       "      <td>&lt;http://dbpedia.org/resource/G-Enka&gt;</td>\n",
       "      <td>G-Enka</td>\n",
       "      <td>henry krvits born 30 december 1974 in tallinn ...</td>\n",
       "    </tr>\n",
       "  </tbody>\n",
       "</table>\n",
       "</div>"
      ],
      "text/plain": [
       "                                                 URI                 name  \\\n",
       "0         <http://dbpedia.org/resource/Bill_Clinton>         Bill Clinton   \n",
       "1   <http://dbpedia.org/resource/Polyana_L%C3%B3pez>   Polyana L%C3%B3pez   \n",
       "2        <http://dbpedia.org/resource/Harpdog_Brown>        Harpdog Brown   \n",
       "3  <http://dbpedia.org/resource/Franz_Rottensteiner>  Franz Rottensteiner   \n",
       "4               <http://dbpedia.org/resource/G-Enka>               G-Enka   \n",
       "\n",
       "                                                text  \n",
       "0  william jefferson bill clinton born william je...  \n",
       "1  polyana lpez born circa 1985 is an argentine a...  \n",
       "2  harpdog brown is a singer and harmonica player...  \n",
       "3  franz rottensteiner born in waidmannsfeld lowe...  \n",
       "4  henry krvits born 30 december 1974 in tallinn ...  "
      ]
     },
     "execution_count": 44,
     "metadata": {},
     "output_type": "execute_result"
    }
   ],
   "source": [
    "people.head()"
   ]
  },
  {
   "cell_type": "code",
   "execution_count": 3,
   "metadata": {},
   "outputs": [
    {
     "data": {
      "text/plain": [
       "4    henry krvits born 30 december 1974 in tallinn ...\n",
       "5    sam henderson born october 18 1969 is an ameri...\n",
       "6    aaron lacrate is an american music producer re...\n",
       "7    trevor ferguson aka john farrow born 11 novemb...\n",
       "8    grant nelson born 27 april 1971 in london also...\n",
       "9    cathy caruth born 1955 is frank h t rhodes pro...\n",
       "Name: text, dtype: object"
      ]
     },
     "execution_count": 3,
     "metadata": {},
     "output_type": "execute_result"
    }
   ],
   "source": [
    "people.text[4:10]"
   ]
  },
  {
   "cell_type": "code",
   "execution_count": 4,
   "metadata": {},
   "outputs": [
    {
     "data": {
      "text/plain": [
       "<7799x134997 sparse matrix of type '<type 'numpy.int64'>'\n",
       "\twith 1354646 stored elements in Compressed Sparse Row format>"
      ]
     },
     "execution_count": 4,
     "metadata": {},
     "output_type": "execute_result"
    }
   ],
   "source": [
    "count_vect = CountVectorizer()  # word vector\n",
    "X_train_counts = count_vect.fit_transform(people.text.astype('U'))  # convert to sparse matrix\n",
    "X_train_counts"
   ]
  },
  {
   "cell_type": "code",
   "execution_count": 5,
   "metadata": {},
   "outputs": [
    {
     "data": {
      "text/plain": [
       "<1x134997 sparse matrix of type '<type 'numpy.int64'>'\n",
       "\twith 304 stored elements in Compressed Sparse Row format>"
      ]
     },
     "execution_count": 5,
     "metadata": {},
     "output_type": "execute_result"
    }
   ],
   "source": [
    "X_train_counts[7]"
   ]
  },
  {
   "cell_type": "code",
   "execution_count": 6,
   "metadata": {},
   "outputs": [
    {
     "data": {
      "text/plain": [
       "<7799x134997 sparse matrix of type '<type 'numpy.float64'>'\n",
       "\twith 1354646 stored elements in Compressed Sparse Row format>"
      ]
     },
     "execution_count": 6,
     "metadata": {},
     "output_type": "execute_result"
    }
   ],
   "source": [
    "# remove unimpotant words through tf-idf\n",
    "tfidf_transformer = TfidfTransformer()\n",
    "X_train_tfidf = tfidf_transformer.fit_transform(X_train_counts)\n",
    "X_train_tfidf"
   ]
  },
  {
   "cell_type": "code",
   "execution_count": 7,
   "metadata": {},
   "outputs": [
    {
     "name": "stdout",
     "output_type": "stream",
     "text": [
      "7799\n",
      "134997\n"
     ]
    }
   ],
   "source": [
    "people['tfidf']=list(X_train_tfidf.toarray())\n",
    "print len(people['tfidf'])\n",
    "print len(people['tfidf'][7])"
   ]
  },
  {
   "cell_type": "code",
   "execution_count": 8,
   "metadata": {
    "collapsed": true
   },
   "outputs": [],
   "source": [
    "kdt = KDTree(people['tfidf'].tolist(), leaf_size=7)"
   ]
  },
  {
   "cell_type": "code",
   "execution_count": 11,
   "metadata": {},
   "outputs": [
    {
     "data": {
      "text/plain": [
       "<sklearn.neighbors.kd_tree.KDTree at 0x7f9fe86b9c10>"
      ]
     },
     "execution_count": 11,
     "metadata": {},
     "output_type": "execute_result"
    }
   ],
   "source": [
    "kdt"
   ]
  },
  {
   "cell_type": "code",
   "execution_count": 23,
   "metadata": {},
   "outputs": [
    {
     "name": "stdout",
     "output_type": "stream",
     "text": [
      "False    7794\n",
      "True        4\n",
      "Name: name, dtype: int64\n"
     ]
    }
   ],
   "source": [
    "print people['name'].str.contains('Emmanuel').value_counts()  # 4 articles contains Emmanuel"
   ]
  },
  {
   "cell_type": "code",
   "execution_count": 32,
   "metadata": {},
   "outputs": [],
   "source": [
    "# Find most relevant 7 articles close to Emmanuel!\n",
    "\n",
    "# 1. you find articles that contains Emmanuel in name column, in this case (you can also use text column)\n",
    "# 2. the relevant tfidf features will be used in KDTree\n",
    "\n",
    "dist, idx = kdt.query(people['tfidf'][people['name'].str.contains('Emmanuel').astype(bool)].tolist(), k=7)"
   ]
  },
  {
   "cell_type": "code",
   "execution_count": 35,
   "metadata": {},
   "outputs": [
    {
     "name": "stdout",
     "output_type": "stream",
     "text": [
      "[[ 0.          1.16889527  1.20133731  1.25841642  1.27332873  1.28143053\n",
      "   1.28154608]\n",
      " [ 0.          1.06962209  1.07685893  1.18726699  1.19637047  1.20821813\n",
      "   1.21485208]\n",
      " [ 0.          1.16217917  1.19242797  1.19935786  1.22984895  1.23150622\n",
      "   1.23551565]\n",
      " [ 0.          1.21865095  1.2362159   1.27582766  1.28159673  1.28656549\n",
      "   1.2885435 ]\n",
      " [ 0.          1.3257826   1.34413744  1.38912252  1.41421356  1.41421356\n",
      "   1.41421356]]\n",
      "[[ 193 7788 5603 5676 6437 7507 2782]\n",
      " [2446 2610 6145 4475 3411 5776 3468]\n",
      " [3922 1048 5030 6140 1658 1134 2129]\n",
      " [4175 5823 5643 2131  491 4258 3579]\n",
      " [5880 1987 1531 7791 1681 3030 2063]]\n"
     ]
    }
   ],
   "source": [
    "print dist\n",
    "print idx"
   ]
  },
  {
   "cell_type": "code",
   "execution_count": 53,
   "metadata": {},
   "outputs": [
    {
     "name": "stdout",
     "output_type": "stream",
     "text": [
      "Emmanuel Pierre-Antoine, Kylie Jones, Sammy Stopford\n",
      "Emmanuel Kolini\n",
      "Emmanuel N. Onwubiko\n",
      "Emmanuel Paulker\n",
      "nan\n",
      "Margaret Leng Tan\n"
     ]
    }
   ],
   "source": [
    "print people['name'][193] + ', ' + people['name'][7788] + ', ' + people['name'][6437]\n",
    "print people['name'][2446]\n",
    "print people['name'][3922]\n",
    "print people['name'][4175]\n",
    "print people['name'][5880]\n",
    "print people['name'][7791]"
   ]
  },
  {
   "cell_type": "code",
   "execution_count": null,
   "metadata": {
    "collapsed": true
   },
   "outputs": [],
   "source": []
  }
 ],
 "metadata": {
  "kernelspec": {
   "display_name": "Python 2",
   "language": "python",
   "name": "python2"
  },
  "language_info": {
   "codemirror_mode": {
    "name": "ipython",
    "version": 2
   },
   "file_extension": ".py",
   "mimetype": "text/x-python",
   "name": "python",
   "nbconvert_exporter": "python",
   "pygments_lexer": "ipython2",
   "version": "2.7.13"
  }
 },
 "nbformat": 4,
 "nbformat_minor": 2
}
